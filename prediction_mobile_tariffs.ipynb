{
 "cells": [
  {
   "cell_type": "markdown",
   "metadata": {},
   "source": [
    "# Рекомендация тарифов"
   ]
  },
  {
   "cell_type": "markdown",
   "metadata": {},
   "source": [
    "В распоряжении данные о поведении клиентов, которые уже перешли на эти тарифы. Необходимо построить модель для задачи классификации, которая выберет подходящий тариф. \n",
    "\n",
    "Постройте модель с максимально большим значением *accuracy*. Чтобы сдать проект успешно, нужно довести долю правильных ответов по крайней мере до 0.75. Проверьте *accuracy* на тестовой выборке самостоятельно."
   ]
  },
  {
   "cell_type": "code",
   "execution_count": 2,
   "metadata": {},
   "outputs": [],
   "source": [
    "import pandas as pd\n",
    "import numpy as np\n",
    "from sklearn.model_selection import train_test_split\n",
    "from sklearn.linear_model import LogisticRegression\n",
    "from sklearn.ensemble import RandomForestClassifier\n",
    "from sklearn.tree import DecisionTreeClassifier\n",
    "from sklearn.dummy import DummyClassifier\n",
    "from sklearn.metrics import accuracy_score\n",
    "from sklearn.metrics import roc_curve\n",
    "from sklearn.metrics import auc\n",
    "from tqdm import tqdm\n",
    "import matplotlib.pyplot as plt"
   ]
  },
  {
   "cell_type": "code",
   "execution_count": 4,
   "metadata": {},
   "outputs": [],
   "source": [
    "def review(df): \n",
    "    \"\"\"функция для отображения общей информации\"\"\"\n",
    "    info = display(df.head(10)), df.info(), display(df.describe())"
   ]
  },
  {
   "cell_type": "markdown",
   "metadata": {},
   "source": [
    "## Откроем и изучим файл"
   ]
  },
  {
   "cell_type": "code",
   "execution_count": 5,
   "metadata": {},
   "outputs": [],
   "source": [
    "df = pd.read_csv('/datasets/users_behavior.csv')"
   ]
  },
  {
   "cell_type": "code",
   "execution_count": 6,
   "metadata": {},
   "outputs": [
    {
     "data": {
      "text/html": [
       "<div>\n",
       "<style scoped>\n",
       "    .dataframe tbody tr th:only-of-type {\n",
       "        vertical-align: middle;\n",
       "    }\n",
       "\n",
       "    .dataframe tbody tr th {\n",
       "        vertical-align: top;\n",
       "    }\n",
       "\n",
       "    .dataframe thead th {\n",
       "        text-align: right;\n",
       "    }\n",
       "</style>\n",
       "<table border=\"1\" class=\"dataframe\">\n",
       "  <thead>\n",
       "    <tr style=\"text-align: right;\">\n",
       "      <th></th>\n",
       "      <th>calls</th>\n",
       "      <th>minutes</th>\n",
       "      <th>messages</th>\n",
       "      <th>mb_used</th>\n",
       "      <th>is_ultra</th>\n",
       "    </tr>\n",
       "  </thead>\n",
       "  <tbody>\n",
       "    <tr>\n",
       "      <td>0</td>\n",
       "      <td>40.0</td>\n",
       "      <td>311.90</td>\n",
       "      <td>83.0</td>\n",
       "      <td>19915.42</td>\n",
       "      <td>0</td>\n",
       "    </tr>\n",
       "    <tr>\n",
       "      <td>1</td>\n",
       "      <td>85.0</td>\n",
       "      <td>516.75</td>\n",
       "      <td>56.0</td>\n",
       "      <td>22696.96</td>\n",
       "      <td>0</td>\n",
       "    </tr>\n",
       "    <tr>\n",
       "      <td>2</td>\n",
       "      <td>77.0</td>\n",
       "      <td>467.66</td>\n",
       "      <td>86.0</td>\n",
       "      <td>21060.45</td>\n",
       "      <td>0</td>\n",
       "    </tr>\n",
       "    <tr>\n",
       "      <td>3</td>\n",
       "      <td>106.0</td>\n",
       "      <td>745.53</td>\n",
       "      <td>81.0</td>\n",
       "      <td>8437.39</td>\n",
       "      <td>1</td>\n",
       "    </tr>\n",
       "    <tr>\n",
       "      <td>4</td>\n",
       "      <td>66.0</td>\n",
       "      <td>418.74</td>\n",
       "      <td>1.0</td>\n",
       "      <td>14502.75</td>\n",
       "      <td>0</td>\n",
       "    </tr>\n",
       "    <tr>\n",
       "      <td>5</td>\n",
       "      <td>58.0</td>\n",
       "      <td>344.56</td>\n",
       "      <td>21.0</td>\n",
       "      <td>15823.37</td>\n",
       "      <td>0</td>\n",
       "    </tr>\n",
       "    <tr>\n",
       "      <td>6</td>\n",
       "      <td>57.0</td>\n",
       "      <td>431.64</td>\n",
       "      <td>20.0</td>\n",
       "      <td>3738.90</td>\n",
       "      <td>1</td>\n",
       "    </tr>\n",
       "    <tr>\n",
       "      <td>7</td>\n",
       "      <td>15.0</td>\n",
       "      <td>132.40</td>\n",
       "      <td>6.0</td>\n",
       "      <td>21911.60</td>\n",
       "      <td>0</td>\n",
       "    </tr>\n",
       "    <tr>\n",
       "      <td>8</td>\n",
       "      <td>7.0</td>\n",
       "      <td>43.39</td>\n",
       "      <td>3.0</td>\n",
       "      <td>2538.67</td>\n",
       "      <td>1</td>\n",
       "    </tr>\n",
       "    <tr>\n",
       "      <td>9</td>\n",
       "      <td>90.0</td>\n",
       "      <td>665.41</td>\n",
       "      <td>38.0</td>\n",
       "      <td>17358.61</td>\n",
       "      <td>0</td>\n",
       "    </tr>\n",
       "  </tbody>\n",
       "</table>\n",
       "</div>"
      ],
      "text/plain": [
       "   calls  minutes  messages   mb_used  is_ultra\n",
       "0   40.0   311.90      83.0  19915.42         0\n",
       "1   85.0   516.75      56.0  22696.96         0\n",
       "2   77.0   467.66      86.0  21060.45         0\n",
       "3  106.0   745.53      81.0   8437.39         1\n",
       "4   66.0   418.74       1.0  14502.75         0\n",
       "5   58.0   344.56      21.0  15823.37         0\n",
       "6   57.0   431.64      20.0   3738.90         1\n",
       "7   15.0   132.40       6.0  21911.60         0\n",
       "8    7.0    43.39       3.0   2538.67         1\n",
       "9   90.0   665.41      38.0  17358.61         0"
      ]
     },
     "metadata": {},
     "output_type": "display_data"
    },
    {
     "name": "stdout",
     "output_type": "stream",
     "text": [
      "<class 'pandas.core.frame.DataFrame'>\n",
      "RangeIndex: 3214 entries, 0 to 3213\n",
      "Data columns (total 5 columns):\n",
      "calls       3214 non-null float64\n",
      "minutes     3214 non-null float64\n",
      "messages    3214 non-null float64\n",
      "mb_used     3214 non-null float64\n",
      "is_ultra    3214 non-null int64\n",
      "dtypes: float64(4), int64(1)\n",
      "memory usage: 125.7 KB\n"
     ]
    },
    {
     "data": {
      "text/html": [
       "<div>\n",
       "<style scoped>\n",
       "    .dataframe tbody tr th:only-of-type {\n",
       "        vertical-align: middle;\n",
       "    }\n",
       "\n",
       "    .dataframe tbody tr th {\n",
       "        vertical-align: top;\n",
       "    }\n",
       "\n",
       "    .dataframe thead th {\n",
       "        text-align: right;\n",
       "    }\n",
       "</style>\n",
       "<table border=\"1\" class=\"dataframe\">\n",
       "  <thead>\n",
       "    <tr style=\"text-align: right;\">\n",
       "      <th></th>\n",
       "      <th>calls</th>\n",
       "      <th>minutes</th>\n",
       "      <th>messages</th>\n",
       "      <th>mb_used</th>\n",
       "      <th>is_ultra</th>\n",
       "    </tr>\n",
       "  </thead>\n",
       "  <tbody>\n",
       "    <tr>\n",
       "      <td>count</td>\n",
       "      <td>3214.000000</td>\n",
       "      <td>3214.000000</td>\n",
       "      <td>3214.000000</td>\n",
       "      <td>3214.000000</td>\n",
       "      <td>3214.000000</td>\n",
       "    </tr>\n",
       "    <tr>\n",
       "      <td>mean</td>\n",
       "      <td>63.038892</td>\n",
       "      <td>438.208787</td>\n",
       "      <td>38.281269</td>\n",
       "      <td>17207.673836</td>\n",
       "      <td>0.306472</td>\n",
       "    </tr>\n",
       "    <tr>\n",
       "      <td>std</td>\n",
       "      <td>33.236368</td>\n",
       "      <td>234.569872</td>\n",
       "      <td>36.148326</td>\n",
       "      <td>7570.968246</td>\n",
       "      <td>0.461100</td>\n",
       "    </tr>\n",
       "    <tr>\n",
       "      <td>min</td>\n",
       "      <td>0.000000</td>\n",
       "      <td>0.000000</td>\n",
       "      <td>0.000000</td>\n",
       "      <td>0.000000</td>\n",
       "      <td>0.000000</td>\n",
       "    </tr>\n",
       "    <tr>\n",
       "      <td>25%</td>\n",
       "      <td>40.000000</td>\n",
       "      <td>274.575000</td>\n",
       "      <td>9.000000</td>\n",
       "      <td>12491.902500</td>\n",
       "      <td>0.000000</td>\n",
       "    </tr>\n",
       "    <tr>\n",
       "      <td>50%</td>\n",
       "      <td>62.000000</td>\n",
       "      <td>430.600000</td>\n",
       "      <td>30.000000</td>\n",
       "      <td>16943.235000</td>\n",
       "      <td>0.000000</td>\n",
       "    </tr>\n",
       "    <tr>\n",
       "      <td>75%</td>\n",
       "      <td>82.000000</td>\n",
       "      <td>571.927500</td>\n",
       "      <td>57.000000</td>\n",
       "      <td>21424.700000</td>\n",
       "      <td>1.000000</td>\n",
       "    </tr>\n",
       "    <tr>\n",
       "      <td>max</td>\n",
       "      <td>244.000000</td>\n",
       "      <td>1632.060000</td>\n",
       "      <td>224.000000</td>\n",
       "      <td>49745.730000</td>\n",
       "      <td>1.000000</td>\n",
       "    </tr>\n",
       "  </tbody>\n",
       "</table>\n",
       "</div>"
      ],
      "text/plain": [
       "             calls      minutes     messages       mb_used     is_ultra\n",
       "count  3214.000000  3214.000000  3214.000000   3214.000000  3214.000000\n",
       "mean     63.038892   438.208787    38.281269  17207.673836     0.306472\n",
       "std      33.236368   234.569872    36.148326   7570.968246     0.461100\n",
       "min       0.000000     0.000000     0.000000      0.000000     0.000000\n",
       "25%      40.000000   274.575000     9.000000  12491.902500     0.000000\n",
       "50%      62.000000   430.600000    30.000000  16943.235000     0.000000\n",
       "75%      82.000000   571.927500    57.000000  21424.700000     1.000000\n",
       "max     244.000000  1632.060000   224.000000  49745.730000     1.000000"
      ]
     },
     "metadata": {},
     "output_type": "display_data"
    }
   ],
   "source": [
    "review(df)"
   ]
  },
  {
   "cell_type": "markdown",
   "metadata": {},
   "source": [
    "Приведем тип данных в столбцах `calls` и `messages` к `int64` и проверим данные на явные дубликаты."
   ]
  },
  {
   "cell_type": "code",
   "execution_count": 7,
   "metadata": {},
   "outputs": [],
   "source": [
    "for column in df[['calls','messages']]:\n",
    "    df[column] = df[column].astype(\"int\")"
   ]
  },
  {
   "cell_type": "code",
   "execution_count": 8,
   "metadata": {},
   "outputs": [
    {
     "data": {
      "text/plain": [
       "0"
      ]
     },
     "execution_count": 8,
     "metadata": {},
     "output_type": "execute_result"
    }
   ],
   "source": [
    "df.duplicated().sum()"
   ]
  },
  {
   "cell_type": "code",
   "execution_count": 9,
   "metadata": {},
   "outputs": [
    {
     "data": {
      "text/html": [
       "<div>\n",
       "<style scoped>\n",
       "    .dataframe tbody tr th:only-of-type {\n",
       "        vertical-align: middle;\n",
       "    }\n",
       "\n",
       "    .dataframe tbody tr th {\n",
       "        vertical-align: top;\n",
       "    }\n",
       "\n",
       "    .dataframe thead th {\n",
       "        text-align: right;\n",
       "    }\n",
       "</style>\n",
       "<table border=\"1\" class=\"dataframe\">\n",
       "  <thead>\n",
       "    <tr style=\"text-align: right;\">\n",
       "      <th></th>\n",
       "      <th>calls</th>\n",
       "      <th>minutes</th>\n",
       "      <th>messages</th>\n",
       "      <th>mb_used</th>\n",
       "      <th>is_ultra</th>\n",
       "    </tr>\n",
       "  </thead>\n",
       "  <tbody>\n",
       "    <tr>\n",
       "      <td>0</td>\n",
       "      <td>40</td>\n",
       "      <td>311.90</td>\n",
       "      <td>83</td>\n",
       "      <td>19915.42</td>\n",
       "      <td>0</td>\n",
       "    </tr>\n",
       "    <tr>\n",
       "      <td>1</td>\n",
       "      <td>85</td>\n",
       "      <td>516.75</td>\n",
       "      <td>56</td>\n",
       "      <td>22696.96</td>\n",
       "      <td>0</td>\n",
       "    </tr>\n",
       "    <tr>\n",
       "      <td>2</td>\n",
       "      <td>77</td>\n",
       "      <td>467.66</td>\n",
       "      <td>86</td>\n",
       "      <td>21060.45</td>\n",
       "      <td>0</td>\n",
       "    </tr>\n",
       "    <tr>\n",
       "      <td>3</td>\n",
       "      <td>106</td>\n",
       "      <td>745.53</td>\n",
       "      <td>81</td>\n",
       "      <td>8437.39</td>\n",
       "      <td>1</td>\n",
       "    </tr>\n",
       "    <tr>\n",
       "      <td>4</td>\n",
       "      <td>66</td>\n",
       "      <td>418.74</td>\n",
       "      <td>1</td>\n",
       "      <td>14502.75</td>\n",
       "      <td>0</td>\n",
       "    </tr>\n",
       "    <tr>\n",
       "      <td>5</td>\n",
       "      <td>58</td>\n",
       "      <td>344.56</td>\n",
       "      <td>21</td>\n",
       "      <td>15823.37</td>\n",
       "      <td>0</td>\n",
       "    </tr>\n",
       "    <tr>\n",
       "      <td>6</td>\n",
       "      <td>57</td>\n",
       "      <td>431.64</td>\n",
       "      <td>20</td>\n",
       "      <td>3738.90</td>\n",
       "      <td>1</td>\n",
       "    </tr>\n",
       "    <tr>\n",
       "      <td>7</td>\n",
       "      <td>15</td>\n",
       "      <td>132.40</td>\n",
       "      <td>6</td>\n",
       "      <td>21911.60</td>\n",
       "      <td>0</td>\n",
       "    </tr>\n",
       "    <tr>\n",
       "      <td>8</td>\n",
       "      <td>7</td>\n",
       "      <td>43.39</td>\n",
       "      <td>3</td>\n",
       "      <td>2538.67</td>\n",
       "      <td>1</td>\n",
       "    </tr>\n",
       "    <tr>\n",
       "      <td>9</td>\n",
       "      <td>90</td>\n",
       "      <td>665.41</td>\n",
       "      <td>38</td>\n",
       "      <td>17358.61</td>\n",
       "      <td>0</td>\n",
       "    </tr>\n",
       "  </tbody>\n",
       "</table>\n",
       "</div>"
      ],
      "text/plain": [
       "   calls  minutes  messages   mb_used  is_ultra\n",
       "0     40   311.90        83  19915.42         0\n",
       "1     85   516.75        56  22696.96         0\n",
       "2     77   467.66        86  21060.45         0\n",
       "3    106   745.53        81   8437.39         1\n",
       "4     66   418.74         1  14502.75         0\n",
       "5     58   344.56        21  15823.37         0\n",
       "6     57   431.64        20   3738.90         1\n",
       "7     15   132.40         6  21911.60         0\n",
       "8      7    43.39         3   2538.67         1\n",
       "9     90   665.41        38  17358.61         0"
      ]
     },
     "metadata": {},
     "output_type": "display_data"
    },
    {
     "name": "stdout",
     "output_type": "stream",
     "text": [
      "<class 'pandas.core.frame.DataFrame'>\n",
      "RangeIndex: 3214 entries, 0 to 3213\n",
      "Data columns (total 5 columns):\n",
      "calls       3214 non-null int64\n",
      "minutes     3214 non-null float64\n",
      "messages    3214 non-null int64\n",
      "mb_used     3214 non-null float64\n",
      "is_ultra    3214 non-null int64\n",
      "dtypes: float64(2), int64(3)\n",
      "memory usage: 125.7 KB\n"
     ]
    },
    {
     "data": {
      "text/html": [
       "<div>\n",
       "<style scoped>\n",
       "    .dataframe tbody tr th:only-of-type {\n",
       "        vertical-align: middle;\n",
       "    }\n",
       "\n",
       "    .dataframe tbody tr th {\n",
       "        vertical-align: top;\n",
       "    }\n",
       "\n",
       "    .dataframe thead th {\n",
       "        text-align: right;\n",
       "    }\n",
       "</style>\n",
       "<table border=\"1\" class=\"dataframe\">\n",
       "  <thead>\n",
       "    <tr style=\"text-align: right;\">\n",
       "      <th></th>\n",
       "      <th>calls</th>\n",
       "      <th>minutes</th>\n",
       "      <th>messages</th>\n",
       "      <th>mb_used</th>\n",
       "      <th>is_ultra</th>\n",
       "    </tr>\n",
       "  </thead>\n",
       "  <tbody>\n",
       "    <tr>\n",
       "      <td>count</td>\n",
       "      <td>3214.000000</td>\n",
       "      <td>3214.000000</td>\n",
       "      <td>3214.000000</td>\n",
       "      <td>3214.000000</td>\n",
       "      <td>3214.000000</td>\n",
       "    </tr>\n",
       "    <tr>\n",
       "      <td>mean</td>\n",
       "      <td>63.038892</td>\n",
       "      <td>438.208787</td>\n",
       "      <td>38.281269</td>\n",
       "      <td>17207.673836</td>\n",
       "      <td>0.306472</td>\n",
       "    </tr>\n",
       "    <tr>\n",
       "      <td>std</td>\n",
       "      <td>33.236368</td>\n",
       "      <td>234.569872</td>\n",
       "      <td>36.148326</td>\n",
       "      <td>7570.968246</td>\n",
       "      <td>0.461100</td>\n",
       "    </tr>\n",
       "    <tr>\n",
       "      <td>min</td>\n",
       "      <td>0.000000</td>\n",
       "      <td>0.000000</td>\n",
       "      <td>0.000000</td>\n",
       "      <td>0.000000</td>\n",
       "      <td>0.000000</td>\n",
       "    </tr>\n",
       "    <tr>\n",
       "      <td>25%</td>\n",
       "      <td>40.000000</td>\n",
       "      <td>274.575000</td>\n",
       "      <td>9.000000</td>\n",
       "      <td>12491.902500</td>\n",
       "      <td>0.000000</td>\n",
       "    </tr>\n",
       "    <tr>\n",
       "      <td>50%</td>\n",
       "      <td>62.000000</td>\n",
       "      <td>430.600000</td>\n",
       "      <td>30.000000</td>\n",
       "      <td>16943.235000</td>\n",
       "      <td>0.000000</td>\n",
       "    </tr>\n",
       "    <tr>\n",
       "      <td>75%</td>\n",
       "      <td>82.000000</td>\n",
       "      <td>571.927500</td>\n",
       "      <td>57.000000</td>\n",
       "      <td>21424.700000</td>\n",
       "      <td>1.000000</td>\n",
       "    </tr>\n",
       "    <tr>\n",
       "      <td>max</td>\n",
       "      <td>244.000000</td>\n",
       "      <td>1632.060000</td>\n",
       "      <td>224.000000</td>\n",
       "      <td>49745.730000</td>\n",
       "      <td>1.000000</td>\n",
       "    </tr>\n",
       "  </tbody>\n",
       "</table>\n",
       "</div>"
      ],
      "text/plain": [
       "             calls      minutes     messages       mb_used     is_ultra\n",
       "count  3214.000000  3214.000000  3214.000000   3214.000000  3214.000000\n",
       "mean     63.038892   438.208787    38.281269  17207.673836     0.306472\n",
       "std      33.236368   234.569872    36.148326   7570.968246     0.461100\n",
       "min       0.000000     0.000000     0.000000      0.000000     0.000000\n",
       "25%      40.000000   274.575000     9.000000  12491.902500     0.000000\n",
       "50%      62.000000   430.600000    30.000000  16943.235000     0.000000\n",
       "75%      82.000000   571.927500    57.000000  21424.700000     1.000000\n",
       "max     244.000000  1632.060000   224.000000  49745.730000     1.000000"
      ]
     },
     "metadata": {},
     "output_type": "display_data"
    }
   ],
   "source": [
    "review(df)"
   ]
  },
  {
   "cell_type": "markdown",
   "metadata": {},
   "source": [
    "### Вывод"
   ]
  },
  {
   "cell_type": "markdown",
   "metadata": {},
   "source": [
    "В целом данные чистые, была лишь произведена замена типа данных в `calls` и `messages` на `int64`."
   ]
  },
  {
   "cell_type": "markdown",
   "metadata": {},
   "source": [
    "## Разобьем данные на выборки"
   ]
  },
  {
   "cell_type": "markdown",
   "metadata": {},
   "source": [
    "Разделим исходные данные на обучающую, валидационную и тестовую выборки."
   ]
  },
  {
   "cell_type": "code",
   "execution_count": 10,
   "metadata": {},
   "outputs": [],
   "source": [
    "features = df.drop(['is_ultra'], axis=1)\n",
    "target = df['is_ultra']"
   ]
  },
  {
   "cell_type": "markdown",
   "metadata": {},
   "source": [
    "Спрятанной тестовой выборки нет. Поэтому, данные разобьем на три части: обучающую, валидационную и тестовую. Исходные данные разбивают в соотношении 3:1:1."
   ]
  },
  {
   "cell_type": "markdown",
   "metadata": {},
   "source": [
    "### Обучающая"
   ]
  },
  {
   "cell_type": "code",
   "execution_count": 11,
   "metadata": {},
   "outputs": [],
   "source": [
    "features_train, features_test, target_train, target_test = train_test_split(features, \n",
    "                                                                            target, \n",
    "                                                                            test_size=0.4, \n",
    "                                                                            random_state=12345\n",
    "                                                                           ) "
   ]
  },
  {
   "cell_type": "markdown",
   "metadata": {},
   "source": [
    "Размер выборки обучающей выборки"
   ]
  },
  {
   "cell_type": "code",
   "execution_count": 12,
   "metadata": {},
   "outputs": [
    {
     "name": "stdout",
     "output_type": "stream",
     "text": [
      "(1928, 4)\n",
      "(1928,)\n"
     ]
    }
   ],
   "source": [
    "print(features_train.shape)\n",
    "print(target_train.shape)"
   ]
  },
  {
   "cell_type": "markdown",
   "metadata": {},
   "source": [
    "### Валидационная и тестовая"
   ]
  },
  {
   "cell_type": "code",
   "execution_count": 13,
   "metadata": {},
   "outputs": [],
   "source": [
    "features_valid, features_test, target_valid, target_test = train_test_split(features_test, \n",
    "                                                                            target_test, \n",
    "                                                                            test_size=0.5, \n",
    "                                                                            random_state=12345\n",
    "                                                                           ) "
   ]
  },
  {
   "cell_type": "markdown",
   "metadata": {},
   "source": [
    "Размер валидационной выборки"
   ]
  },
  {
   "cell_type": "code",
   "execution_count": 14,
   "metadata": {},
   "outputs": [
    {
     "name": "stdout",
     "output_type": "stream",
     "text": [
      "(643, 4)\n",
      "(643,)\n"
     ]
    }
   ],
   "source": [
    "print(features_valid.shape)\n",
    "print(target_valid.shape)"
   ]
  },
  {
   "cell_type": "markdown",
   "metadata": {},
   "source": [
    "Размер тестовой выборки"
   ]
  },
  {
   "cell_type": "code",
   "execution_count": 15,
   "metadata": {},
   "outputs": [
    {
     "name": "stdout",
     "output_type": "stream",
     "text": [
      "(643, 4)\n",
      "(643,)\n"
     ]
    }
   ],
   "source": [
    "print(features_test.shape)\n",
    "print(target_test.shape)"
   ]
  },
  {
   "cell_type": "markdown",
   "metadata": {},
   "source": [
    "## Исследуем модели"
   ]
  },
  {
   "cell_type": "markdown",
   "metadata": {},
   "source": [
    "### `Decision Tree Classifier`"
   ]
  },
  {
   "cell_type": "code",
   "execution_count": 16,
   "metadata": {},
   "outputs": [
    {
     "name": "stderr",
     "output_type": "stream",
     "text": [
      "100%|██████████| 10/10 [00:00<00:00, 211.53it/s]\n"
     ]
    }
   ],
   "source": [
    "best_model_dtc = None\n",
    "best_depth_dtc = 0\n",
    "best_result_dtc = 0\n",
    "for depth in tqdm(range(1, 11)):\n",
    "    model_dtc = DecisionTreeClassifier(random_state=12345, max_depth = depth).fit(features_train, target_train)\n",
    "    predictions_valid_dtc = model_dtc.predict(features_valid)\n",
    "    result_dtc = accuracy_score(predictions_valid_dtc, target_valid)\n",
    "    if best_result_dtc < result_dtc:\n",
    "     best_model_dtc = model_dtc\n",
    "     best_depth_dtc = depth\n",
    "     best_result_dtc = result_dtc"
   ]
  },
  {
   "cell_type": "code",
   "execution_count": 17,
   "metadata": {},
   "outputs": [
    {
     "name": "stdout",
     "output_type": "stream",
     "text": [
      "best max_depth = 10 :  best Accuracy =  0.7744945567651633"
     ]
    }
   ],
   "source": [
    "print('best max_depth =', depth, ': ', 'best Accuracy = ', best_result_dtc, end ='') "
   ]
  },
  {
   "cell_type": "markdown",
   "metadata": {},
   "source": [
    "#### Вывод"
   ]
  },
  {
   "cell_type": "markdown",
   "metadata": {},
   "source": [
    "`Accuracy` лучшей модели из десяти равно `0.7744945567651633`, с гиперпараметром `max_depth` равным - `10`, ресурсозатратность же равна, при заданных `10` иттераций, равна 172.03ит/сек."
   ]
  },
  {
   "cell_type": "markdown",
   "metadata": {},
   "source": [
    "### `RandomForestClassifier`"
   ]
  },
  {
   "cell_type": "code",
   "execution_count": 18,
   "metadata": {},
   "outputs": [
    {
     "name": "stderr",
     "output_type": "stream",
     "text": [
      "100%|██████████| 10/10 [00:01<00:00,  7.57it/s]\n"
     ]
    }
   ],
   "source": [
    "best_model_rfc = None\n",
    "best_est_rfc = 0\n",
    "best_depth_rfc = 0\n",
    "best_result_rfc = 0\n",
    "for est in tqdm(range(1, 11)):\n",
    "    for depth in range(1, 11):\n",
    "        model_rfc = RandomForestClassifier(random_state=12345, n_estimators=est, max_depth = depth).fit(features_train, target_train)\n",
    "        predictions_valid_rfc = model_rfc.predict(features_valid)\n",
    "        accuracy_rfc = accuracy_score(predictions_valid_rfc, target_valid)\n",
    "        if best_result_rfc < result_rfc:\n",
    "         best_model_rfc = model_rfc\n",
    "         best_est_rfc = est\n",
    "         best_depth_rfc = depth\n",
    "         best_result_rfc = result_rfc"
   ]
  },
  {
   "cell_type": "code",
   "execution_count": 19,
   "metadata": {},
   "outputs": [
    {
     "name": "stdout",
     "output_type": "stream",
     "text": [
      "best n_estimators = 10 :  best max_depth = 10 :  best Accuracy =  0.7916018662519441"
     ]
    }
   ],
   "source": [
    "print('best n_estimators =', est, ': ', 'best max_depth =', depth, ': ', 'best Accuracy = ', best_result_rfc, end ='') "
   ]
  },
  {
   "cell_type": "markdown",
   "metadata": {},
   "source": [
    "#### Вывод"
   ]
  },
  {
   "cell_type": "markdown",
   "metadata": {},
   "source": [
    "`Accuracy` лучшей модели из десяти равно `0.7916018662519441`, с гиперпараметром `n_estimators` равным - `10` и `max_depth` равным `10`, ресурсозатратность же равна, при заданных `10` иттераций, равна 6.04ит/сек."
   ]
  },
  {
   "cell_type": "markdown",
   "metadata": {},
   "source": [
    "### `Logistic Regression`"
   ]
  },
  {
   "cell_type": "code",
   "execution_count": 20,
   "metadata": {},
   "outputs": [
    {
     "name": "stdout",
     "output_type": "stream",
     "text": [
      "Accuracy LogisticRegression: 0.7589424572317263"
     ]
    },
    {
     "name": "stderr",
     "output_type": "stream",
     "text": [
      "/opt/conda/lib/python3.7/site-packages/sklearn/linear_model/logistic.py:432: FutureWarning: Default solver will be changed to 'lbfgs' in 0.22. Specify a solver to silence this warning.\n",
      "  FutureWarning)\n"
     ]
    }
   ],
   "source": [
    "model_lr = LogisticRegression(random_state=12345).fit(features_train, target_train)\n",
    "predictions_valid_lr = model_lr.predict(features_valid)\n",
    "accuracy_lr = accuracy_score(predictions_valid_lr, target_valid)\n",
    "print('Accuracy LogisticRegression:', accuracy_lr, end ='')"
   ]
  },
  {
   "cell_type": "markdown",
   "metadata": {},
   "source": [
    "#### Вывод"
   ]
  },
  {
   "cell_type": "markdown",
   "metadata": {},
   "source": [
    "Accuracy модели `LogisticRegression` равно `0.7589424572317263`"
   ]
  },
  {
   "cell_type": "markdown",
   "metadata": {},
   "source": [
    "### Вывод"
   ]
  },
  {
   "cell_type": "markdown",
   "metadata": {},
   "source": [
    "- наилучший результат `Accuracy` у модели `решающего дерева` - `DecisionTreeClassifier` - `Accuracy` равен `0.7744945567651633`, ресурсозатратность же при этом меньшая - при заданных `10` иттераций, равна 172.03ит/сек;\n",
    "- наилучший результат `Accuracy` у модели `случайного леса` - `RandomForestClassifier` - `0.7916018662519441`, ресурсозатратность же, при заданных `10` иттераций, равна 6.04ит/сек.\n",
    "- результат `Accuracy` у модели `логистической регрессии` - `LogisticRegression` - `0.7589424572317263`."
   ]
  },
  {
   "cell_type": "markdown",
   "metadata": {},
   "source": [
    "## Проверим модель на тестовой выборке"
   ]
  },
  {
   "cell_type": "markdown",
   "metadata": {},
   "source": [
    "Наиболее эффективно (точность/скорость) себя показала модель `случайного леса` - `RandomForestClassifier`, поэтому проверим ее на тестовой выборке"
   ]
  },
  {
   "cell_type": "code",
   "execution_count": 21,
   "metadata": {},
   "outputs": [
    {
     "name": "stdout",
     "output_type": "stream",
     "text": [
      "Accuracy RandomForestClassifier: 0.8009331259720062\n"
     ]
    }
   ],
   "source": [
    "model_rfc = RandomForestClassifier(random_state=12345, n_estimators = 10, max_depth = 10).fit(features_train, target_train)\n",
    "predictions_test_rfc = model_rfc.predict(features_test)\n",
    "result_test_rfc = accuracy_score(predictions_test_rfc, target_test)\n",
    "print('Accuracy RandomForestClassifier:', result_test_rfc)"
   ]
  },
  {
   "cell_type": "markdown",
   "metadata": {},
   "source": [
    "### Вывод"
   ]
  },
  {
   "cell_type": "markdown",
   "metadata": {},
   "source": [
    "`Accuracy` у модели `случайного леса` - `RandomForestClassifier` на тестовой выборке равна `0.8009331259720062`."
   ]
  },
  {
   "cell_type": "markdown",
   "metadata": {},
   "source": [
    "## Проверим модель на адекватность"
   ]
  },
  {
   "cell_type": "markdown",
   "metadata": {},
   "source": [
    "Для проверки используем модель `DummyClassifier`."
   ]
  },
  {
   "cell_type": "code",
   "execution_count": 22,
   "metadata": {},
   "outputs": [
    {
     "name": "stdout",
     "output_type": "stream",
     "text": [
      "Accuracy DummyClassifier: 0.7060653188180405\n"
     ]
    }
   ],
   "source": [
    "model_dc = DummyClassifier(strategy='most_frequent', random_state=12345)\n",
    "model_dc.fit(features_train, target_train)\n",
    "result_dc = model_dc.score(features_valid, target_valid)\n",
    "print('Accuracy DummyClassifier:', result_dc)"
   ]
  },
  {
   "cell_type": "code",
   "execution_count": 23,
   "metadata": {},
   "outputs": [
    {
     "name": "stdout",
     "output_type": "stream",
     "text": [
      "Accuracy RandomForestClassifier: 0.8009331259720062\n"
     ]
    }
   ],
   "source": [
    "print('Accuracy RandomForestClassifier:', result_test_rfc)"
   ]
  },
  {
   "cell_type": "markdown",
   "metadata": {},
   "source": [
    "### Вывод"
   ]
  },
  {
   "cell_type": "markdown",
   "metadata": {},
   "source": [
    "`Accuracy` модели `DummyClassifier` ниже, чем у модели `RandomForestClassifier` - модель адекватна и эффективна."
   ]
  },
  {
   "cell_type": "markdown",
   "metadata": {},
   "source": [
    "## Общий вывод"
   ]
  },
  {
   "cell_type": "markdown",
   "metadata": {},
   "source": [
    "- предоставленные данные чистые, без артефактов и прочего;\n",
    "- были исследованы модели `Decision Tree Classifier`, `RandomForestClassifier` и `Logistic Regression`;\n",
    "- наилучшую эффективность (точность/скорость) показала модель `RandomForestClassifier` с гиперпараметрами `n_estimators` равным - `10` и `max_depth` равным `10`;\n",
    "- модель `RandomForestClassifier` с наилучшими гиперапараметрами была проверена на тестовой выборке и показала результат `Accuracy` - `0.8009331259720062`;\n",
    "- также модель `RandomForestClassifier` проверенная на тестовой выборке была проверена на вменяемость - для проверки использовалась модель `DummyClassifier`, которая показала результат `Accuracy` - `0.7060653188180405`."
   ]
  }
 ],
 "metadata": {
  "ExecuteTimeLog": [
   {
    "duration": 1113,
    "start_time": "2022-03-03T10:18:44.711Z"
   },
   {
    "duration": 55,
    "start_time": "2022-03-03T10:19:02.789Z"
   },
   {
    "duration": 52,
    "start_time": "2022-03-03T10:21:17.241Z"
   },
   {
    "duration": 94,
    "start_time": "2022-03-03T10:21:41.812Z"
   },
   {
    "duration": 51,
    "start_time": "2022-03-03T10:21:50.830Z"
   },
   {
    "duration": 6,
    "start_time": "2022-03-03T10:22:23.774Z"
   },
   {
    "duration": 7,
    "start_time": "2022-03-03T10:22:30.913Z"
   },
   {
    "duration": 34,
    "start_time": "2022-03-03T10:22:40.035Z"
   },
   {
    "duration": 4,
    "start_time": "2022-03-03T10:24:30.654Z"
   },
   {
    "duration": 6,
    "start_time": "2022-03-03T10:25:07.799Z"
   },
   {
    "duration": 5,
    "start_time": "2022-03-03T10:25:27.232Z"
   },
   {
    "duration": 5,
    "start_time": "2022-03-03T10:25:53.964Z"
   },
   {
    "duration": 95,
    "start_time": "2022-03-03T10:26:30.929Z"
   },
   {
    "duration": 65,
    "start_time": "2022-03-03T10:26:39.052Z"
   },
   {
    "duration": 260,
    "start_time": "2022-03-03T10:27:10.324Z"
   },
   {
    "duration": 99,
    "start_time": "2022-03-03T10:28:54.191Z"
   },
   {
    "duration": 16,
    "start_time": "2022-03-03T10:29:40.932Z"
   },
   {
    "duration": 17,
    "start_time": "2022-03-03T10:29:44.031Z"
   },
   {
    "duration": 2557,
    "start_time": "2022-03-03T10:36:17.643Z"
   },
   {
    "duration": 2522,
    "start_time": "2022-03-03T10:36:27.203Z"
   },
   {
    "duration": 2698,
    "start_time": "2022-03-03T10:36:37.260Z"
   },
   {
    "duration": 2689,
    "start_time": "2022-03-03T10:36:43.193Z"
   },
   {
    "duration": 3,
    "start_time": "2022-03-03T10:37:06.653Z"
   },
   {
    "duration": 6,
    "start_time": "2022-03-03T10:40:29.521Z"
   },
   {
    "duration": 3,
    "start_time": "2022-03-03T10:40:41.033Z"
   },
   {
    "duration": 94,
    "start_time": "2022-03-03T10:41:51.988Z"
   },
   {
    "duration": 373,
    "start_time": "2022-03-03T10:41:58.912Z"
   },
   {
    "duration": 3,
    "start_time": "2022-03-03T10:42:19.931Z"
   },
   {
    "duration": 3,
    "start_time": "2022-03-03T10:45:28.481Z"
   },
   {
    "duration": 1202,
    "start_time": "2022-03-03T10:47:27.619Z"
   },
   {
    "duration": 66,
    "start_time": "2022-03-03T10:47:28.823Z"
   },
   {
    "duration": 6,
    "start_time": "2022-03-03T10:47:28.891Z"
   },
   {
    "duration": 15,
    "start_time": "2022-03-03T10:47:28.899Z"
   },
   {
    "duration": 39,
    "start_time": "2022-03-03T10:47:28.917Z"
   },
   {
    "duration": 21,
    "start_time": "2022-03-03T10:47:28.958Z"
   },
   {
    "duration": 10,
    "start_time": "2022-03-03T10:47:28.981Z"
   },
   {
    "duration": 8,
    "start_time": "2022-03-03T10:47:28.994Z"
   },
   {
    "duration": 91,
    "start_time": "2022-03-03T10:47:29.004Z"
   },
   {
    "duration": 312,
    "start_time": "2022-03-03T10:47:29.097Z"
   },
   {
    "duration": 18,
    "start_time": "2022-03-03T10:47:29.412Z"
   },
   {
    "duration": 2719,
    "start_time": "2022-03-03T10:47:29.432Z"
   },
   {
    "duration": 3,
    "start_time": "2022-03-03T10:47:32.153Z"
   },
   {
    "duration": 21,
    "start_time": "2022-03-03T10:47:32.158Z"
   },
   {
    "duration": 3,
    "start_time": "2022-03-03T10:47:32.181Z"
   },
   {
    "duration": 249,
    "start_time": "2022-03-03T12:35:59.461Z"
   },
   {
    "duration": 217,
    "start_time": "2022-03-03T12:36:06.121Z"
   },
   {
    "duration": 1138,
    "start_time": "2022-03-03T12:36:11.532Z"
   },
   {
    "duration": 63,
    "start_time": "2022-03-03T12:36:12.673Z"
   },
   {
    "duration": 5,
    "start_time": "2022-03-03T12:36:12.739Z"
   },
   {
    "duration": 38,
    "start_time": "2022-03-03T12:36:12.746Z"
   },
   {
    "duration": 49,
    "start_time": "2022-03-03T12:36:12.786Z"
   },
   {
    "duration": 4,
    "start_time": "2022-03-03T12:36:13.825Z"
   },
   {
    "duration": 280,
    "start_time": "2022-03-03T12:36:14.314Z"
   },
   {
    "duration": 7,
    "start_time": "2022-03-03T12:37:12.733Z"
   },
   {
    "duration": 9,
    "start_time": "2022-03-03T12:37:25.033Z"
   },
   {
    "duration": 9,
    "start_time": "2022-03-03T12:37:37.643Z"
   },
   {
    "duration": 8,
    "start_time": "2022-03-03T12:37:51.683Z"
   },
   {
    "duration": 6,
    "start_time": "2022-03-03T12:38:18.403Z"
   },
   {
    "duration": 3,
    "start_time": "2022-03-03T12:38:19.765Z"
   },
   {
    "duration": 230,
    "start_time": "2022-03-03T12:39:34.894Z"
   },
   {
    "duration": 3,
    "start_time": "2022-03-03T12:39:37.945Z"
   },
   {
    "duration": 5,
    "start_time": "2022-03-03T12:39:38.481Z"
   },
   {
    "duration": 3,
    "start_time": "2022-03-03T12:39:39.255Z"
   },
   {
    "duration": 70,
    "start_time": "2022-03-03T12:39:51.795Z"
   },
   {
    "duration": 225,
    "start_time": "2022-03-03T12:40:16.614Z"
   },
   {
    "duration": 3,
    "start_time": "2022-03-03T12:40:19.715Z"
   },
   {
    "duration": 85,
    "start_time": "2022-03-03T12:42:22.553Z"
   },
   {
    "duration": 1846,
    "start_time": "2022-03-03T12:42:29.314Z"
   },
   {
    "duration": 1859,
    "start_time": "2022-03-03T12:42:58.573Z"
   },
   {
    "duration": 1896,
    "start_time": "2022-03-03T12:43:26.194Z"
   },
   {
    "duration": 2830,
    "start_time": "2022-03-03T12:44:04.733Z"
   },
   {
    "duration": 4,
    "start_time": "2022-03-03T12:44:07.566Z"
   },
   {
    "duration": 19,
    "start_time": "2022-03-03T12:44:07.572Z"
   },
   {
    "duration": 20,
    "start_time": "2022-03-03T12:44:07.601Z"
   },
   {
    "duration": 4,
    "start_time": "2022-03-03T12:44:11.825Z"
   },
   {
    "duration": 4,
    "start_time": "2022-03-03T12:44:20.685Z"
   },
   {
    "duration": 1798,
    "start_time": "2022-03-03T12:45:14.603Z"
   },
   {
    "duration": 1662,
    "start_time": "2022-03-03T12:45:54.113Z"
   },
   {
    "duration": 6,
    "start_time": "2022-03-03T12:46:01.785Z"
   },
   {
    "duration": 73,
    "start_time": "2022-03-03T12:46:48.753Z"
   },
   {
    "duration": 73,
    "start_time": "2022-03-03T12:46:51.900Z"
   },
   {
    "duration": 5,
    "start_time": "2022-03-03T12:47:46.625Z"
   },
   {
    "duration": 5,
    "start_time": "2022-03-03T12:48:16.193Z"
   },
   {
    "duration": 69,
    "start_time": "2022-03-03T12:48:47.555Z"
   },
   {
    "duration": 4,
    "start_time": "2022-03-03T12:48:52.835Z"
   },
   {
    "duration": 5,
    "start_time": "2022-03-03T12:49:39.312Z"
   },
   {
    "duration": 1638,
    "start_time": "2022-03-03T12:50:12.854Z"
   },
   {
    "duration": 1667,
    "start_time": "2022-03-03T12:50:17.538Z"
   },
   {
    "duration": 223,
    "start_time": "2022-03-03T12:51:53.013Z"
   },
   {
    "duration": 1598,
    "start_time": "2022-03-03T12:52:16.153Z"
   },
   {
    "duration": 5,
    "start_time": "2022-03-03T12:52:18.934Z"
   },
   {
    "duration": 65,
    "start_time": "2022-03-03T12:52:37.702Z"
   },
   {
    "duration": 4,
    "start_time": "2022-03-03T12:53:01.775Z"
   },
   {
    "duration": 5,
    "start_time": "2022-03-03T12:56:59.424Z"
   },
   {
    "duration": 40,
    "start_time": "2022-03-03T13:00:28.253Z"
   },
   {
    "duration": 43,
    "start_time": "2022-03-03T13:01:00.923Z"
   },
   {
    "duration": 5,
    "start_time": "2022-03-03T13:01:15.513Z"
   },
   {
    "duration": 45,
    "start_time": "2022-03-03T13:01:17.472Z"
   },
   {
    "duration": 3,
    "start_time": "2022-03-03T13:02:51.885Z"
   },
   {
    "duration": 6,
    "start_time": "2022-03-03T13:02:54.955Z"
   },
   {
    "duration": 1187,
    "start_time": "2022-03-03T13:17:19.233Z"
   },
   {
    "duration": 54,
    "start_time": "2022-03-03T13:17:20.422Z"
   },
   {
    "duration": 5,
    "start_time": "2022-03-03T13:17:20.478Z"
   },
   {
    "duration": 23,
    "start_time": "2022-03-03T13:17:20.485Z"
   },
   {
    "duration": 40,
    "start_time": "2022-03-03T13:17:20.511Z"
   },
   {
    "duration": 4,
    "start_time": "2022-03-03T13:17:20.553Z"
   },
   {
    "duration": 9,
    "start_time": "2022-03-03T13:17:20.558Z"
   },
   {
    "duration": 9,
    "start_time": "2022-03-03T13:17:20.569Z"
   },
   {
    "duration": 25,
    "start_time": "2022-03-03T13:17:20.580Z"
   },
   {
    "duration": 15,
    "start_time": "2022-03-03T13:17:20.607Z"
   },
   {
    "duration": 7,
    "start_time": "2022-03-03T13:17:20.624Z"
   },
   {
    "duration": 84,
    "start_time": "2022-03-03T13:17:20.633Z"
   },
   {
    "duration": 4,
    "start_time": "2022-03-03T13:17:20.719Z"
   },
   {
    "duration": 1695,
    "start_time": "2022-03-03T13:17:20.724Z"
   },
   {
    "duration": 7,
    "start_time": "2022-03-03T13:17:22.421Z"
   },
   {
    "duration": 22,
    "start_time": "2022-03-03T13:17:22.432Z"
   },
   {
    "duration": 61,
    "start_time": "2022-03-03T13:17:22.456Z"
   },
   {
    "duration": 5,
    "start_time": "2022-03-03T13:17:22.520Z"
   },
   {
    "duration": 7,
    "start_time": "2022-03-03T13:17:22.527Z"
   },
   {
    "duration": 4,
    "start_time": "2022-03-03T13:21:42.793Z"
   },
   {
    "duration": 4,
    "start_time": "2022-03-03T13:21:43.414Z"
   },
   {
    "duration": 1111,
    "start_time": "2022-03-04T11:05:45.622Z"
   },
   {
    "duration": 50,
    "start_time": "2022-03-04T11:05:46.734Z"
   },
   {
    "duration": 4,
    "start_time": "2022-03-04T11:05:46.786Z"
   },
   {
    "duration": 6,
    "start_time": "2022-03-04T11:05:46.792Z"
   },
   {
    "duration": 39,
    "start_time": "2022-03-04T11:05:46.800Z"
   },
   {
    "duration": 4,
    "start_time": "2022-03-04T11:05:47.754Z"
   },
   {
    "duration": 5,
    "start_time": "2022-03-04T11:05:48.292Z"
   },
   {
    "duration": 3,
    "start_time": "2022-03-04T11:05:48.644Z"
   },
   {
    "duration": 5,
    "start_time": "2022-03-04T11:05:49.042Z"
   },
   {
    "duration": 3,
    "start_time": "2022-03-04T11:05:49.436Z"
   },
   {
    "duration": 3,
    "start_time": "2022-03-04T11:05:49.862Z"
   },
   {
    "duration": 54,
    "start_time": "2022-03-04T11:05:51.162Z"
   },
   {
    "duration": 4,
    "start_time": "2022-03-04T11:05:51.602Z"
   },
   {
    "duration": 1390,
    "start_time": "2022-03-04T11:05:52.971Z"
   },
   {
    "duration": 1403,
    "start_time": "2022-03-08T14:36:01.375Z"
   },
   {
    "duration": 3,
    "start_time": "2022-03-08T14:38:15.813Z"
   },
   {
    "duration": 3,
    "start_time": "2022-03-08T14:38:22.200Z"
   },
   {
    "duration": 3,
    "start_time": "2022-03-08T14:38:34.678Z"
   },
   {
    "duration": 1505,
    "start_time": "2022-03-08T14:38:49.045Z"
   },
   {
    "duration": 32,
    "start_time": "2022-03-08T14:38:50.552Z"
   },
   {
    "duration": 5,
    "start_time": "2022-03-08T14:38:58.400Z"
   },
   {
    "duration": 6,
    "start_time": "2022-03-08T14:38:58.851Z"
   },
   {
    "duration": 28,
    "start_time": "2022-03-08T14:38:59.376Z"
   },
   {
    "duration": 4,
    "start_time": "2022-03-08T14:39:07.657Z"
   },
   {
    "duration": 5,
    "start_time": "2022-03-08T14:39:08.969Z"
   },
   {
    "duration": 3,
    "start_time": "2022-03-08T14:39:09.686Z"
   },
   {
    "duration": 5,
    "start_time": "2022-03-08T14:39:10.220Z"
   },
   {
    "duration": 3,
    "start_time": "2022-03-08T14:39:11.129Z"
   },
   {
    "duration": 3,
    "start_time": "2022-03-08T14:39:11.917Z"
   },
   {
    "duration": 54,
    "start_time": "2022-03-08T14:39:17.053Z"
   },
   {
    "duration": 3,
    "start_time": "2022-03-08T14:39:17.536Z"
   },
   {
    "duration": 1327,
    "start_time": "2022-03-08T14:39:21.995Z"
   },
   {
    "duration": 4,
    "start_time": "2022-03-08T14:39:23.323Z"
   },
   {
    "duration": 13,
    "start_time": "2022-03-08T14:39:27.220Z"
   },
   {
    "duration": 36,
    "start_time": "2022-03-08T14:39:35.807Z"
   },
   {
    "duration": 5,
    "start_time": "2022-03-08T14:39:44.127Z"
   },
   {
    "duration": 3,
    "start_time": "2022-03-08T14:39:44.334Z"
   }
  ],
  "kernelspec": {
   "display_name": "Python 3",
   "language": "python",
   "name": "python3"
  },
  "language_info": {
   "codemirror_mode": {
    "name": "ipython",
    "version": 3
   },
   "file_extension": ".py",
   "mimetype": "text/x-python",
   "name": "python",
   "nbconvert_exporter": "python",
   "pygments_lexer": "ipython3",
   "version": "3.7.8"
  },
  "toc": {
   "base_numbering": 1,
   "nav_menu": {},
   "number_sections": true,
   "sideBar": true,
   "skip_h1_title": true,
   "title_cell": "Table of Contents",
   "title_sidebar": "Contents",
   "toc_cell": false,
   "toc_position": {
    "height": "calc(100% - 180px)",
    "left": "10px",
    "top": "150px",
    "width": "366.391px"
   },
   "toc_section_display": true,
   "toc_window_display": false
  }
 },
 "nbformat": 4,
 "nbformat_minor": 2
}
